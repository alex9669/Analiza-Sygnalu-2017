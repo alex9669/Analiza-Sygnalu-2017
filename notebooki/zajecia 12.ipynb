{
 "cells": [
  {
   "cell_type": "markdown",
   "metadata": {},
   "source": [
    "# Pustka\n",
    "Tym razem zaczynacie z pustym notebookiem. To trochę symulacja sytuacji przeprowadzania projektu. Dzisiaj przerobimy przede wszystkim:\n",
    "* organizacja kodu z poprzednich zajęć - tworzymy funkcję która wczytuje dane i robi tfr\n",
    "* pętla przez osoby badane - robimy tfr dla wszystkich osób\n",
    "* uśrednianie tfr - aby otrzymać między innymi średnie wykresy tfr\n",
    "* selekcja regionów zainteresowania\n",
    "* analiza\n",
    "\n",
    "Ostatni punkt, wraz z wielokrotnymi porównaniami omówimy jeszcze w przyszłym tygodniu. To będzie ostatnia cegła do twierdzy waszych kompetencji przed Wami pozostanie tylko zabawa z projektem."
   ]
  },
  {
   "cell_type": "markdown",
   "metadata": {},
   "source": [
    "## Zadanie 01\n",
    "Stwórz w tym notebook'u najpierw dwie komórki:\n",
    "* w pierwszej umieść wszystkie potrzebne importy\n",
    "* w drugiej zaś kod, którym wczytasz jeden plik oraz utworzysz dla niego tfr\n",
    "Potrzebny kod znajdziesz w notebook'u z ostatnich zajęć. Spróbuj wybrać to co potrzebne oraz zrobić kosmetyczną zmianę tak aby kod robił tfr dla obu warunków razem. To ważne - druga komórka ma robić tfr bez podziału na warunki - dla obu warunków łącznie!"
   ]
  },
  {
   "cell_type": "markdown",
   "metadata": {},
   "source": [
    "## Zadanie 02\n",
    "Przekształć teraz kod z drugiej komórki w funkcję, która przyjmuje nazwę pliku oraz zwraca tfr dla tego pliku.\n",
    "Przypominam, że funkcje piszemy tak:\n",
    "```python\n",
    "def nazwa_funkcji(argument1, argument2):\n",
    "    # cośtam cośtam\n",
    "    # cośtam cośtam\n",
    "    return jakiś_wynik\n",
    "```\n",
    "w Waszym wypadku 'sygnatura' funkcji będzie taka:\n",
    "```python\n",
    "def daj_mnie_ten_tfr(nazwa_pliku):\n",
    "    # wczytanie pliku\n",
    "    # definicja zmiennych do analizy tfr\n",
    "    # analiza tfr\n",
    "    return tfr\n",
    "```"
   ]
  },
  {
   "cell_type": "markdown",
   "metadata": {},
   "source": [
    "## Zadanie 03\n",
    "Wreszcie gdy mamy już interesującą nas funkcję, spróbujemy wykonać ją dla wszystkich plików. Ale dojdziemy do tego krok po kroku.\n",
    "### Krok 1\n",
    "Wyobraźmy sobie, że mamy listę plików o nazwie `files` jak napisać pętlę aby robiła coś kolejno z nazwami plików?  \n",
    "Na przykładzie funkcji print:"
   ]
  },
  {
   "cell_type": "code",
   "execution_count": 1,
   "metadata": {
    "collapsed": true
   },
   "outputs": [],
   "source": [
    "files = ['plik1.fif', 'plik2.fif', 'jakiś dziwny plik.png',\n",
    "         'Jak python zmienił moje życie - wypracowanie.docx']"
   ]
  },
  {
   "cell_type": "code",
   "execution_count": 2,
   "metadata": {},
   "outputs": [
    {
     "name": "stdout",
     "output_type": "stream",
     "text": [
      "plik1.fif\n",
      "plik2.fif\n",
      "jakiś dziwny plik.png\n",
      "Jak python zmienił moje życie - wyprawcowanie.docx\n"
     ]
    }
   ],
   "source": [
    "for this_file in files:\n",
    "    print(this_file)"
   ]
  },
  {
   "cell_type": "code",
   "execution_count": 3,
   "metadata": {},
   "outputs": [
    {
     "name": "stdout",
     "output_type": "stream",
     "text": [
      "pi1ff\n",
      "pi2ff\n",
      "jkśdin lkpg\n",
      "Jkpto mei oeżce-wpacwnedc\n"
     ]
    }
   ],
   "source": [
    "for this_file in files:\n",
    "    print(this_file[::2])"
   ]
  },
  {
   "cell_type": "markdown",
   "metadata": {},
   "source": [
    "W waszym wypadku wystarczy podmienić funkcję `print` na Waszą funkcję do wczytywania pliku i robienia tfr.  \n",
    "\n",
    "### Krok 2\n",
    "Pozostaje jeszcze jedna sprawa - chcielibyśmy jakoś agregować te tfr-y na przykład zbierać do jednej listy.  \n",
    "Całe szczęście nie jest to trudne. Poniżej konkretny przykład, weźmy najpierw funkcję, która zwraca nam trzy\n",
    "losowe liczby:"
   ]
  },
  {
   "cell_type": "code",
   "execution_count": 4,
   "metadata": {
    "collapsed": true
   },
   "outputs": [],
   "source": [
    "import numpy as np\n",
    "\n",
    "def three_random():\n",
    "    return np.random.rand(3)"
   ]
  },
  {
   "cell_type": "code",
   "execution_count": 5,
   "metadata": {},
   "outputs": [
    {
     "data": {
      "text/plain": [
       "array([0.33270893, 0.61921339, 0.85700122])"
      ]
     },
     "execution_count": 5,
     "metadata": {},
     "output_type": "execute_result"
    }
   ],
   "source": [
    "three_random()"
   ]
  },
  {
   "cell_type": "code",
   "execution_count": 6,
   "metadata": {},
   "outputs": [
    {
     "data": {
      "text/plain": [
       "array([0.77534818, 0.67226044, 0.33410465])"
      ]
     },
     "execution_count": 6,
     "metadata": {},
     "output_type": "execute_result"
    }
   ],
   "source": [
    "three_random()"
   ]
  },
  {
   "cell_type": "markdown",
   "metadata": {},
   "source": [
    "Za każdym razem wektor trzech losowych liczb między zero a jeden. Teraz chcemy wykonać tę funkcję pięć razy i każdy z pięciu kolejnych wyników przechowywać w liście `liczby`."
   ]
  },
  {
   "cell_type": "code",
   "execution_count": 7,
   "metadata": {
    "collapsed": true
   },
   "outputs": [],
   "source": [
    "# tworzymy pustą listę:\n",
    "liczby = list()\n",
    "\n",
    "# pięć razy ...\n",
    "for i in range(5):\n",
    "    # uruchamiany naszą funkcję:\n",
    "    trzy = three_random()\n",
    "    \n",
    "    # a następnie doklejamy jej wynik do listy 'liczby':\n",
    "    liczby.append(trzy)"
   ]
  },
  {
   "cell_type": "code",
   "execution_count": 8,
   "metadata": {},
   "outputs": [
    {
     "data": {
      "text/plain": [
       "[array([0.50266703, 0.33421762, 0.59706877]),\n",
       " array([0.68342066, 0.33242564, 0.49359561]),\n",
       " array([0.76438025, 0.9343985 , 0.22734359]),\n",
       " array([0.49356043, 0.12667151, 0.421795  ]),\n",
       " array([0.10468988, 0.81883416, 0.01626112])]"
      ]
     },
     "execution_count": 8,
     "metadata": {},
     "output_type": "execute_result"
    }
   ],
   "source": [
    "liczby"
   ]
  },
  {
   "cell_type": "code",
   "execution_count": 10,
   "metadata": {},
   "outputs": [
    {
     "data": {
      "text/plain": [
       "[array([0.49356043, 0.12667151, 0.421795  ]),\n",
       " array([0.10468988, 0.81883416, 0.01626112])]"
      ]
     },
     "execution_count": 10,
     "metadata": {},
     "output_type": "execute_result"
    }
   ],
   "source": [
    "liczby[-2:]"
   ]
  },
  {
   "cell_type": "markdown",
   "metadata": {},
   "source": [
    "W ten sam sposób chcecie wykonywać na kolejnych plikach waszą funkcję do tfr-ów a następnie doklejać je do listy."
   ]
  },
  {
   "cell_type": "markdown",
   "metadata": {},
   "source": [
    "### Krok 3\n",
    "Twoja kolej, czas przeanalizować te dane! Uzupełnij kod poniżej:"
   ]
  },
  {
   "cell_type": "code",
   "execution_count": null,
   "metadata": {
    "collapsed": true
   },
   "outputs": [],
   "source": [
    "tfrs = list()\n",
    "for ___ in ___:\n",
    "    ___ = daj_mnie_ten_tfr(fname)\n",
    "    ____.append(tfr)"
   ]
  },
  {
   "cell_type": "markdown",
   "metadata": {},
   "source": [
    "Tak, tylko tyle wystarczy aby przejść z poziomu pojedynczego pliku, na przetwarzanie wielu!\n",
    "W tym punkcie, jeżeli masz listę tfr'ów, możesz skorzystać z wygodnej funkcji mne python'a do uśredniania wielu tfr'ów.  \n",
    "Ale, ojej, zapomnieliśmy o jednej rzeczy! Chcielibyśmy aby każdy tfr był baseline-corrected. Całe szczęście każdy tfr ma metodę [`apply_baseline`](https://martinos.org/mne/stable/generated/mne.time_frequency.AverageTFR.html#mne.time_frequency.AverageTFR.apply_baseline) (tak, to poprzednie to link do dokumentacji oraz - tak, przeczytaj dokumentację metody `apply_baseline`).  \n",
    "\n",
    "Metoda `apply_baseline` działa, jak to mówią programiści *in-place* tzn. zmienia Wam waszą zmienną w pamięci komputera, nie musicie przechwytywać zmienionej kopii. W związku z tym nie musimy tworzyć nowej listy z tfr'ami zbaseline'owanymi - wystarczy jak przejedziemy pętlą przez wszystkie tfr w liście `tfrs` i dla każdego zastosujemy `apply_baseline`.\n",
    "(baseline robimy taki sam jak na ostatnich zajęciach):"
   ]
  },
  {
   "cell_type": "code",
   "execution_count": null,
   "metadata": {
    "collapsed": true
   },
   "outputs": [],
   "source": [
    "for tfr in tfrs:\n",
    "    tfr.____"
   ]
  }
 ],
 "metadata": {
  "kernelspec": {
   "display_name": "Python [Root]",
   "language": "python",
   "name": "Python [Root]"
  },
  "language_info": {
   "codemirror_mode": {
    "name": "ipython",
    "version": 3
   },
   "file_extension": ".py",
   "mimetype": "text/x-python",
   "name": "python",
   "nbconvert_exporter": "python",
   "pygments_lexer": "ipython3",
   "version": "3.5.1"
  }
 },
 "nbformat": 4,
 "nbformat_minor": 2
}
